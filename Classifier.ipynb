{
 "cells": [
  {
   "cell_type": "code",
   "execution_count": 6,
   "metadata": {},
   "outputs": [
    {
     "name": "stdout",
     "output_type": "stream",
     "text": [
      "43110\n",
      "[ 2.  4.  4. ...,  3.  4.  2.]\n"
     ]
    }
   ],
   "source": [
    "import numpy as np\n",
    "from numpy import genfromtxt\n",
    "import csv\n",
    "from sklearn.tree import DecisionTreeRegressor\n",
    "import matplotlib.pyplot as plt\n",
    "\n",
    "\n",
    "X = np.loadtxt('In.csv', delimiter=',')\n",
    "Y = np.loadtxt('out.csv', delimiter=',')\n",
    "\n",
    "xx = len(X)\n",
    "\n",
    "\n",
    "print (xx)\n",
    "print (Y)\n"
   ]
  },
  {
   "cell_type": "code",
   "execution_count": 7,
   "metadata": {},
   "outputs": [
    {
     "name": "stdout",
     "output_type": "stream",
     "text": [
      "[[  5.   4.   7. ...,   3.   1.   2.]\n",
      " [  4.   4.  13. ...,   4.   1.   2.]\n",
      " [  1.   4.  15. ...,   3.   1.   2.]\n",
      " ..., \n",
      " [  7.   5.  24. ...,   1.   6.  30.]\n",
      " [  8.   5.  24. ...,   1.   6.  30.]\n",
      " [  1.   5.  24. ...,   3.   6.  30.]]\n"
     ]
    }
   ],
   "source": [
    "print(X)"
   ]
  },
  {
   "cell_type": "code",
   "execution_count": 8,
   "metadata": {},
   "outputs": [
    {
     "name": "stdout",
     "output_type": "stream",
     "text": [
      "(43110, 7)\n",
      "(43110,)\n"
     ]
    }
   ],
   "source": [
    "print((np.shape(X)))\n",
    "print(np.shape(Y))"
   ]
  },
  {
   "cell_type": "code",
   "execution_count": 28,
   "metadata": {},
   "outputs": [
    {
     "name": "stdout",
     "output_type": "stream",
     "text": [
      "KFold(n_splits=3, random_state=1000, shuffle=True)\n",
      "<generator object _BaseKFold.split at 0x00000189AD11D938>\n",
      "0.724947807933 0.512943632568\n",
      "0.727940153097 0.514892136395\n",
      "0.725121781489 0.517118997912\n",
      "0.726003247506\n",
      "0.514984922292\n"
     ]
    }
   ],
   "source": [
    "from sklearn.model_selection import KFold\n",
    "from sklearn.model_selection import cross_val_score\n",
    "from sklearn import svm\n",
    "\n",
    "clf2 = svm.SVC(gamma=0.1,kernel = 'rbf', tol=0.00001, C=2.5)\n",
    "\n",
    "y = Y\n",
    "F_tr = X\n",
    "Str = float()\n",
    "Ste = float()\n",
    "\n",
    "kf = KFold(n_splits=3, shuffle=True, random_state=1000)\n",
    "kf.get_n_splits(F_tr)\n",
    "\n",
    "print(kf) \n",
    "print(kf.split(F_tr))\n",
    "\n",
    "for train_index, test_index in kf.split(F_tr):\n",
    "    X_train, X_test = F_tr[train_index], F_tr[test_index]\n",
    "    y_train, y_test = y[train_index], y[test_index]\n",
    "    clf2.fit(X_train, y_train)\n",
    "    \n",
    "    St1 = clf2.score(X_train, y_train)\n",
    "    St2 = clf2.score(X_test, y_test)\n",
    "    \n",
    "    print(St1, St2)\n",
    "    \n",
    "    Str = Str +St1\n",
    "    Ste = Ste + St2\n",
    "\n",
    "print(Str/3)\n",
    "print(Ste/3)"
   ]
  },
  {
   "cell_type": "code",
   "execution_count": 10,
   "metadata": {},
   "outputs": [
    {
     "name": "stdout",
     "output_type": "stream",
     "text": [
      "KFold(n_splits=3, random_state=1000, shuffle=True)\n",
      "<generator object _BaseKFold.split at 0x000002891B376410>\n",
      "0.698677800974 0.504662491301\n",
      "0.732254697286 0.492832289492\n",
      "0.725469728601 0.488378566458\n",
      "0.718800742287\n",
      "0.49529111575\n"
     ]
    }
   ],
   "source": [
    "from sklearn.model_selection import KFold\n",
    "from sklearn.model_selection import cross_val_score\n",
    "\n",
    "from sklearn.neural_network import MLPClassifier\n",
    "\n",
    "mlp = MLPClassifier(hidden_layer_sizes=(300,300,300), learning_rate_init=0.0005, max_iter=500,random_state=500)\n",
    "\n",
    "y = Y\n",
    "F_tr = X\n",
    "Str = float()\n",
    "Ste = float()\n",
    "\n",
    "kf = KFold(n_splits=3, shuffle=True, random_state=1000)\n",
    "kf.get_n_splits(F_tr)\n",
    "\n",
    "print(kf) \n",
    "print(kf.split(F_tr))\n",
    "\n",
    "for train_index, test_index in kf.split(F_tr):\n",
    "    X_train, X_test = F_tr[train_index], F_tr[test_index]\n",
    "    y_train, y_test = y[train_index], y[test_index]\n",
    "    mlp.fit(X_train, y_train)\n",
    "    \n",
    "    St1 = mlp.score(X_train, y_train)\n",
    "    St2 = mlp.score(X_test, y_test)\n",
    "    \n",
    "    print(St1, St2)\n",
    "    \n",
    "    Str = Str +St1\n",
    "    Ste = Ste + St2\n",
    "\n",
    "print(Str/3)\n",
    "print(Ste/3)"
   ]
  },
  {
   "cell_type": "code",
   "execution_count": null,
   "metadata": {
    "collapsed": true
   },
   "outputs": [],
   "source": []
  }
 ],
 "metadata": {
  "kernelspec": {
   "display_name": "Python 3",
   "language": "python",
   "name": "python3"
  },
  "language_info": {
   "codemirror_mode": {
    "name": "ipython",
    "version": 3
   },
   "file_extension": ".py",
   "mimetype": "text/x-python",
   "name": "python",
   "nbconvert_exporter": "python",
   "pygments_lexer": "ipython3",
   "version": "3.6.3"
  }
 },
 "nbformat": 4,
 "nbformat_minor": 2
}
